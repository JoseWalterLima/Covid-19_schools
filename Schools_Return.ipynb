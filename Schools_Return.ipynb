{
  "nbformat": 4,
  "nbformat_minor": 0,
  "metadata": {
    "colab": {
      "name": "Schools_Return(ID).ipynb",
      "provenance": []
    },
    "kernelspec": {
      "name": "python3",
      "display_name": "Python 3"
    }
  },
  "cells": [
    {
      "cell_type": "markdown",
      "metadata": {
        "id": "k-PtXfQKATT7",
        "colab_type": "text"
      },
      "source": [
        "**Importando bibliotecas**"
      ]
    },
    {
      "cell_type": "code",
      "metadata": {
        "id": "ClBwQHY7AKUI",
        "colab_type": "code",
        "colab": {}
      },
      "source": [
        "from scipy.integrate import odeint\n",
        "import numpy as np\n",
        "import matplotlib.pyplot as plt\n",
        "%matplotlib inline"
      ],
      "execution_count": 106,
      "outputs": []
    },
    {
      "cell_type": "markdown",
      "metadata": {
        "id": "4suDA90ct35U",
        "colab_type": "text"
      },
      "source": [
        "**Construindo Vizualização**"
      ]
    },
    {
      "cell_type": "code",
      "metadata": {
        "id": "nMbzp2O7Bght",
        "colab_type": "code",
        "colab": {}
      },
      "source": [
        "def plotid(t, I, D):\n",
        "  f, ax = plt.subplots(1,1,figsize=(10,4))\n",
        "  ax.plot(t, I, 'k', alpha=0.7, linewidth=4, label='Infected')\n",
        "  ax.plot(t, D, 'r', alpha=0.7, linewidth=4, label='Dead')\n",
        "  ax.set_xlabel('Time (days)')\n",
        "  ax.yaxis.set_tick_params(length=0)\n",
        "  ax.xaxis.set_tick_params(length=0)\n",
        "  ax.grid(b=True, which='major', c='w', lw=2, ls='-')\n",
        "  \n",
        "  legend = ax.legend(borderpad=2.0)\n",
        "  legend.get_frame().set_alpha(0.5)\n",
        "  for spine in ('top', 'right', 'bottom', 'left'):\n",
        "      ax.spines[spine].set_visible(False)\n",
        " \n",
        " # Plotando o pico de Infectados\n",
        "  ymax = max(I)\n",
        "  xmax = t[np.argmax(I)]\n",
        "  text= \"{:.0f} Infectados \\n{:.0f} dias.\".format(ymax, xmax)\n",
        "  bbox_props = dict(boxstyle=\"round,pad=0.5\", fc=\"w\", ec=\"k\", lw=2)\n",
        "  ax.annotate(text, xy=(xmax, ymax), bbox=(bbox_props))\n",
        "\n",
        " # Plotando o pico de mortos\n",
        "  ymax = max(D)\n",
        "  xmax = t[np.argmax(D)]\n",
        "  text = \"{:.0f} mortos \\n{:.0f} dias.\".format(ymax, xmax)\n",
        "  bbox_props = dict(boxstyle=\"round,pad=0.5\", fc=\"w\", ec=\"k\", lw=2)\n",
        "  ax.annotate(text, xy=(xmax, ymax), bbox=(bbox_props))\n",
        "\n",
        "  return plt.show();"
      ],
      "execution_count": 173,
      "outputs": []
    },
    {
      "cell_type": "markdown",
      "metadata": {
        "id": "WKvX7OlbuEyh",
        "colab_type": "text"
      },
      "source": [
        "**Defição das Variáveis**"
      ]
    },
    {
      "cell_type": "code",
      "metadata": {
        "id": "H9U0k8IvyLR0",
        "colab_type": "code",
        "colab": {}
      },
      "source": [
        "N = 1000000\n",
        "D = 4.0 # infections lasts four days\n",
        "gamma = 1.0 / D # rate of recovering per day\n",
        "delta = 1.0 / 5.0  # incubation period of five days\n",
        "R_0 = 3.0 # Number of people a infected will infect\n",
        "beta = R_0 / D  # Number of people a infected will infect per day\n",
        "alpha = 0.1  # 5% death rate\n",
        "p = 1/9  # 9 days from infection until death\n",
        "S0, E0, I0, R0, D0 = N-1, 0, 1, 0, 0  # initial conditions: one exposed"
      ],
      "execution_count": 108,
      "outputs": []
    },
    {
      "cell_type": "markdown",
      "metadata": {
        "id": "8Mw1lWZ5xz-c",
        "colab_type": "text"
      },
      "source": [
        "**Calculo das Derivadas e Integral**"
      ]
    },
    {
      "cell_type": "code",
      "metadata": {
        "id": "U7aiiywkx3vy",
        "colab_type": "code",
        "colab": {}
      },
      "source": [
        "def deriv(y, t, N, beta, gamma, delta, alpha, p):\n",
        "    S, E, I, R, D = y\n",
        "    dSdt = -beta * S * I / N\n",
        "    dEdt = beta * S * I / N - delta * E\n",
        "    dIdt = delta * E - (1 - alpha) * gamma * I - alpha * rho * I\n",
        "    dRdt = (1 - alpha) * gamma * I\n",
        "    dDdt = alpha * p * I\n",
        "    return dSdt, dEdt, dIdt, dRdt, dDdt\n",
        "\n",
        "t = np.linspace(0, 200, 200) # Grid of time points (in days)\n",
        "y0 = S0, E0, I0, R0, D0 # Initial conditions vector\n",
        "\n",
        "# Integrate the SIR equations over the time grid, t.\n",
        "ret = odeint(deriv, y0, t, args=(N, beta, gamma, delta, alpha, p))\n",
        "S, E, I, R, D = ret.T"
      ],
      "execution_count": 174,
      "outputs": []
    },
    {
      "cell_type": "markdown",
      "metadata": {
        "id": "JZp8e-FXLFj0",
        "colab_type": "text"
      },
      "source": [
        "**Simulação**"
      ]
    },
    {
      "cell_type": "code",
      "metadata": {
        "id": "RyIAgDGLzFNj",
        "colab_type": "code",
        "colab": {
          "base_uri": "https://localhost:8080/",
          "height": 286
        },
        "outputId": "54b6d1f5-ac92-47ed-947a-a5f8eedc130c"
      },
      "source": [
        "plotid(t, I, D)"
      ],
      "execution_count": 175,
      "outputs": [
        {
          "output_type": "display_data",
          "data": {
            "image/png": "[encoded data removed]",
            "text/plain": [
              "<Figure size 720x288 with 1 Axes>"
            ]
          },
          "metadata": {
            "tags": [],
            "needs_background": "light"
          }
        }
      ]
    }
  ]
}