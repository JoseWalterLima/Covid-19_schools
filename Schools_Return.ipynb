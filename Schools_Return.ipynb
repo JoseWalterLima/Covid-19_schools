{
  "nbformat": 4,
  "nbformat_minor": 0,
  "metadata": {
    "colab": {
      "name": "Volta as Aulas Covid-19(simulação).ipynb",
      "provenance": [],
      "authorship_tag": "ABX9TyPLjy72af++f770gQNOOtmG",
      "include_colab_link": true
    },
    "kernelspec": {
      "name": "python3",
      "display_name": "Python 3"
    }
  },
  "cells": [
    {
      "cell_type": "markdown",
      "metadata": {
        "id": "view-in-github",
        "colab_type": "text"
      },
      "source": [
        "<a href=\"https://colab.research.google.com/github/JoseWalterLima/hello-world/blob/master/Schools_Return.ipynb\" target=\"_parent\"><img src=\"https://colab.research.google.com/assets/colab-badge.svg\" alt=\"Open In Colab\"/></a>"
      ]
    },
    {
      "cell_type": "markdown",
      "metadata": {
        "id": "k-PtXfQKATT7",
        "colab_type": "text"
      },
      "source": [
        "**Importando bibliotecas**"
      ]
    },
    {
      "cell_type": "code",
      "metadata": {
        "id": "ClBwQHY7AKUI",
        "colab_type": "code",
        "colab": {}
      },
      "source": [
        "from scipy.integrate import odeint\n",
        "import numpy as np\n",
        "import matplotlib.pyplot as plt\n",
        "%matplotlib inline"
      ],
      "execution_count": 2,
      "outputs": []
    },
    {
      "cell_type": "markdown",
      "metadata": {
        "id": "x0CGbhQ7x4He",
        "colab_type": "text"
      },
      "source": [
        "**Definindo Estrutura da Vizualização**"
      ]
    },
    {
      "cell_type": "code",
      "metadata": {
        "id": "nMbzp2O7Bght",
        "colab_type": "code",
        "colab": {}
      },
      "source": [
        "def plotseird(t, S, E, I, R, D):\n",
        "  f, ax = plt.subplots(1,1,figsize=(10,4))\n",
        "  ax.plot(t, S, 'b', alpha=0.7, linewidth=2, label='Sucetíveis')\n",
        "  ax.plot(t, E, 'y', alpha=0.7, linewidth=2, label='Expostos')\n",
        "  ax.plot(t, I, 'r', alpha=0.7, linewidth=2, label='Infectados')\n",
        "  ax.plot(t, R, 'g', alpha=0.7, linewidth=2, label='Recuperados')\n",
        "  ax.plot(t, D, 'k', alpha=0.7, linewidth=2, label='Mortos')\n",
        "    \n",
        "  ax.set_xlabel('Dias')\n",
        "  ax.set_ylabel('Número de Pessoas')\n",
        "\n",
        "  ax.yaxis.set_tick_params(length=0)\n",
        "  ax.xaxis.set_tick_params(length=0)\n",
        "  ax.grid(b=True, which='major', c='w', lw=2, ls='-')\n",
        "  legend = ax.legend(borderpad=2.0)\n",
        "  legend.get_frame().set_alpha(0.5)\n",
        "  for spine in ('top', 'right', 'bottom', 'left'):\n",
        "      ax.spines[spine].set_visible(False)\n",
        "  \n",
        "plt.show();"
      ],
      "execution_count": 28,
      "outputs": []
    },
    {
      "cell_type": "markdown",
      "metadata": {
        "id": "8Mw1lWZ5xz-c",
        "colab_type": "text"
      },
      "source": [
        "**Função para Cálculo das Variáveis**"
      ]
    },
    {
      "cell_type": "code",
      "metadata": {
        "id": "U7aiiywkx3vy",
        "colab_type": "code",
        "colab": {}
      },
      "source": [
        "def deriv(y, t, N, beta, gamma, delta, alpha, p):\n",
        "    S, E, I, R, D = y\n",
        "    dSdt = -beta * I * (S / N) # Quantidade de Suscetíveis, t\n",
        "    dEdt = beta * I * (S / N) - (delta * E) # Quantidade de Expostos, t\n",
        "    dIdt = delta * E - (1 - alpha) * gamma * I - (alpha * p * I) # Quantidade de Infectados, t\n",
        "    dRdt = (1 - alpha) * gamma * I # Quantidade de Recuperados, t\n",
        "    dDdt = alpha * p * I # Quantidade de Mortos, t\n",
        "    return dSdt, dEdt, dIdt, dRdt, dDdt"
      ],
      "execution_count": 100,
      "outputs": []
    },
    {
      "cell_type": "markdown",
      "metadata": {
        "id": "uFE7SL5B1pLa",
        "colab_type": "text"
      },
      "source": [
        "**Definição das Variáveis**"
      ]
    },
    {
      "cell_type": "code",
      "metadata": {
        "id": "H9U0k8IvyLR0",
        "colab_type": "code",
        "colab": {}
      },
      "source": [
        "N = 1000000 # População total\n",
        "D = 5.0 # A infecção dura por 4 dias \n",
        "gamma = 1.0 / D # Proporção de infectados que se recuparem diráriamente\n",
        "delta = 1.0 / 5.0  # Período de incubação de 5 dias\n",
        "R_0 = 5.0 # Quantidade total de pessoas que um infectado irá infectar\n",
        "beta = R_0 / D  # Quantidade diária de pessoas que um infectado irá infectar \n",
        "alpha = 0.2  # Taxa de mortalidade de 20% \n",
        "p = 1/9  # Período entre a infecção e morte (9 dias para um doente falecer)\n",
        "S0, E0, I0, R0, D0 = N-2000, 1000, 1000, 0, 0  # Cenário inicial (1 infectado)"
      ],
      "execution_count": 132,
      "outputs": []
    },
    {
      "cell_type": "markdown",
      "metadata": {
        "id": "_9z2taEB-Jrt",
        "colab_type": "text"
      },
      "source": [
        "**Integrando no Tempo**"
      ]
    },
    {
      "cell_type": "code",
      "metadata": {
        "id": "k-jyhILnyk2p",
        "colab_type": "code",
        "colab": {}
      },
      "source": [
        "t = np.linspace(0, 100, 100) # Quantidade de pontos de medução (dias)\n",
        "y0 = S0, E0, I0, R0, D0 # Vetor do Cenário Inicial\n",
        "\n",
        "# Integrando a equação SEIRD ao longo do tempo, t.\n",
        "ret = odeint(deriv, y0, t, args=(N, beta, gamma, delta, alpha, p))\n",
        "S, E, I, R, D = ret.T"
      ],
      "execution_count": 133,
      "outputs": []
    },
    {
      "cell_type": "markdown",
      "metadata": {
        "id": "4B2YpnoDCHSg",
        "colab_type": "text"
      },
      "source": [
        "**Plotando Simulação**"
      ]
    },
    {
      "cell_type": "code",
      "metadata": {
        "id": "RyIAgDGLzFNj",
        "colab_type": "code",
        "colab": {
          "base_uri": "https://localhost:8080/",
          "height": 287
        },
        "outputId": "31578f7e-7748-4374-af21-d68e06f4da6f"
      },
      "source": [
        "plotseird(t, S, E, I, R, D)"
      ],
      "execution_count": 138,
      "outputs": [
        {
          "output_type": "display_data",
          "data": {
            "image/png": "[encoded data removed]",
            "text/plain": [
              "<Figure size 720x288 with 1 Axes>"
            ]
          },
          "metadata": {
            "tags": [],
            "needs_background": "light"
          }
        }
      ]
    }
  ]
}